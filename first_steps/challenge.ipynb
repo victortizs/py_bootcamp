{
  "nbformat": 4,
  "nbformat_minor": 0,
  "metadata": {
    "colab": {
      "name": "challenge.ipynb",
      "provenance": [],
      "collapsed_sections": [],
      "authorship_tag": "ABX9TyNuf0GiyCEEDrQpfmmG+BRR",
      "include_colab_link": true
    },
    "kernelspec": {
      "name": "python3",
      "display_name": "Python 3"
    },
    "language_info": {
      "name": "python"
    }
  },
  "cells": [
    {
      "cell_type": "markdown",
      "metadata": {
        "id": "view-in-github",
        "colab_type": "text"
      },
      "source": [
        "<a href=\"https://colab.research.google.com/github/victortizs/Py-bootcamp/blob/main/challenge.ipynb\" target=\"_parent\"><img src=\"https://colab.research.google.com/assets/colab-badge.svg\" alt=\"Open In Colab\"/></a>"
      ]
    },
    {
      "cell_type": "code",
      "metadata": {
        "colab": {
          "base_uri": "https://localhost:8080/"
        },
        "id": "rAsnCzmaBUKX",
        "outputId": "00e531f4-2f04-4c92-df07-cca3087e66ac"
      },
      "source": [
        "# printing different messages based on user input\n",
        "# LONG VERSION\n",
        "\n",
        "# print(\"Hey, how are u? \\nWould you like to continue?\")\n",
        "response = str.lower(input(\"Hey, how are u? \\nWould you like to continue? \"))\n",
        "ok_inputs = [\"yes\", \"y\", \"no\", \"n\"]\n",
        "\n",
        "if response == \"yes\" or response == \"y\":\n",
        "  print(\"\\nContinuing... \\nComplete!\")\n",
        "elif response == \"no\" or response == \"n\":\n",
        "  print(\"\\nOk. See u \\nExiting\")\n",
        "else: \n",
        "  while response not in ok_inputs:\n",
        "    print(\"Please try again and respond with yes or no.\")\n",
        "    response1 = str.lower(input())\n",
        "    if response1 == \"yes\" or response1 == \"y\":\n",
        "      print(\"\\nContinuing... \\nComplete!\")\n",
        "      break\n",
        "    elif response1 == \"no\" or response1 == \"n\":\n",
        "      print(\"\\nOk. See u \\nExiting\")\n",
        "      break\n",
        "    "
      ],
      "execution_count": 82,
      "outputs": [
        {
          "output_type": "stream",
          "text": [
            "Hey, how are u? \n",
            "Would you like to continue? Nud\n",
            "Please try again and respond with yes or no.\n",
            "jje\n",
            "Please try again and respond with yes or no.\n",
            "34r\n",
            "Please try again and respond with yes or no.\n",
            "no\n",
            "\n",
            "Ok. See u \n",
            "Exiting\n"
          ],
          "name": "stdout"
        }
      ]
    },
    {
      "cell_type": "code",
      "metadata": {
        "colab": {
          "base_uri": "https://localhost:8080/"
        },
        "id": "DvLy_MdWXVkj",
        "outputId": "8a75bc71-6b64-4eb4-bdf5-86786e392e4f"
      },
      "source": [
        "# printing different messages based on user input\n",
        "# SHORTER VERSION\n",
        "\n",
        "response_2 = str.lower(input(\"Hey, how are u? \\nWould you like to continue? \"))\n",
        "\n",
        "while True:\n",
        "  if response_2 == \"yes\" or response_2 == \"y\":\n",
        "    print(\"\\nContinuing... \\nComplete!\")\n",
        "    break\n",
        "  elif response_2 == \"no\" or response_2 == \"n\":\n",
        "    print(\"\\nOk. See u \\nExiting\")\n",
        "    break\n",
        "  else: \n",
        "    print(\"Please try again and respond with yes or no.\")\n",
        "    response_2 = str.lower(input())"
      ],
      "execution_count": 91,
      "outputs": [
        {
          "output_type": "stream",
          "text": [
            "Hey, how are u? \n",
            "Would you like to continue? jke3\n",
            "Please try again and respond with yes or no.\n",
            "i98u2\n",
            "Please try again and respond with yes or no.\n",
            "YES\n",
            "\n",
            "Continuing... \n",
            "Complete!\n"
          ],
          "name": "stdout"
        }
      ]
    }
  ]
}
