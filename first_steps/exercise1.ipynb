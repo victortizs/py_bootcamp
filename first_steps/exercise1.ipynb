{
  "nbformat": 4,
  "nbformat_minor": 0,
  "metadata": {
    "colab": {
      "name": "exercise1.ipynb",
      "provenance": [],
      "collapsed_sections": [],
      "authorship_tag": "ABX9TyNlAv4eTop7c51Yk5UlJoB7",
      "include_colab_link": true
    },
    "kernelspec": {
      "name": "python3",
      "display_name": "Python 3"
    },
    "language_info": {
      "name": "python"
    }
  },
  "cells": [
    {
      "cell_type": "markdown",
      "metadata": {
        "id": "view-in-github",
        "colab_type": "text"
      },
      "source": [
        "<a href=\"https://colab.research.google.com/github/victortizs/Py-bootcamp/blob/main/exercise1.ipynb\" target=\"_parent\"><img src=\"https://colab.research.google.com/assets/colab-badge.svg\" alt=\"Open In Colab\"/></a>"
      ]
    },
    {
      "cell_type": "code",
      "metadata": {
        "colab": {
          "base_uri": "https://localhost:8080/"
        },
        "id": "61rSMvx11UcW",
        "outputId": "25c2f93e-017e-4a57-b19f-ace54ba4f7c1"
      },
      "source": [
        "# Conditionals statements to branch your code: IF\n",
        "\n",
        "value = '8'\n",
        "\n",
        "if value == '7':\n",
        "  print(\"The value is 7\")\n",
        "elif value == '8':\n",
        "  print(\"The value is 8\")\n",
        "elif value == '9':\n",
        "  print(\"The value is 8\")\n",
        "else:\n",
        "  print(\"The value is not one we are looking for\")\n",
        "\n",
        "print('Finished') # be aware of indentation, or you'll get 'IndentationError: unindent does not match any outer indentation level'  "
      ],
      "execution_count": null,
      "outputs": [
        {
          "output_type": "stream",
          "text": [
            "The value is 8\n",
            "Finished\n"
          ],
          "name": "stdout"
        }
      ]
    },
    {
      "cell_type": "code",
      "metadata": {
        "colab": {
          "base_uri": "https://localhost:8080/"
        },
        "id": "gOF_YoOhBxAH",
        "outputId": "1ffcab4a-4e90-4d1e-e18b-533c1013c966"
      },
      "source": [
        "value_1 = '6'\n",
        "    \n",
        "if value_1 < '8':\n",
        "    print('The value is less than 8')\n",
        "elif value_1 < '7':\n",
        "    print('The value is less than 7') # Despite this being true, the interpreter just considers the firs true Boolean expression \n",
        "else:\n",
        "    print('The value is greater than 8')"
      ],
      "execution_count": null,
      "outputs": [
        {
          "output_type": "stream",
          "text": [
            "The value is less than 8\n"
          ],
          "name": "stdout"
        }
      ]
    },
    {
      "cell_type": "code",
      "metadata": {
        "colab": {
          "base_uri": "https://localhost:8080/"
        },
        "id": "oFSV_52mH39g",
        "outputId": "6733f3f9-ef13-4297-90c4-363c0d95f061"
      },
      "source": [
        "# Nesting \"if\" code blocks\n",
        "\n",
        "first_value = True\n",
        "second_value = '5'\n",
        "\n",
        "if first_value: # here we don't need to type \"first_value == True\" 'cause is already set to that\n",
        "  if second_value == '5':\n",
        "    print(\"Got here!\")\n",
        "  "
      ],
      "execution_count": null,
      "outputs": [
        {
          "output_type": "stream",
          "text": [
            "Got here!\n"
          ],
          "name": "stdout"
        }
      ]
    },
    {
      "cell_type": "code",
      "metadata": {
        "colab": {
          "base_uri": "https://localhost:8080/",
          "height": 135
        },
        "id": "j2lkmm5EJ2KF",
        "outputId": "ca4d0737-f2e2-4fa6-cec5-62fa27cb809e"
      },
      "source": [
        "first_value = True\n",
        "second_value = '6'\n",
        "    \n",
        "if first_value:\n",
        "if second_value == '6': # Intentional not enough indentation\n",
        "    print('Got here!')"
      ],
      "execution_count": null,
      "outputs": [
        {
          "output_type": "error",
          "ename": "IndentationError",
          "evalue": "ignored",
          "traceback": [
            "\u001b[0;36m  File \u001b[0;32m\"<ipython-input-16-971e0664eafe>\"\u001b[0;36m, line \u001b[0;32m5\u001b[0m\n\u001b[0;31m    if second_value == '6': # Intentionally not enough indentation\u001b[0m\n\u001b[0m     ^\u001b[0m\n\u001b[0;31mIndentationError\u001b[0m\u001b[0;31m:\u001b[0m expected an indented block\n"
          ]
        }
      ]
    }
  ]
}
