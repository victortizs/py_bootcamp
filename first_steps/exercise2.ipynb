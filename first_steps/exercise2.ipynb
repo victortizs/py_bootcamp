{
  "nbformat": 4,
  "nbformat_minor": 0,
  "metadata": {
    "colab": {
      "name": "exercise2.ipynb",
      "provenance": [],
      "collapsed_sections": [
        "ZnvoYE4hddq0"
      ],
      "authorship_tag": "ABX9TyPm5hKHemmOk+/7DFhtts7t",
      "include_colab_link": true
    },
    "kernelspec": {
      "name": "python3",
      "display_name": "Python 3"
    },
    "language_info": {
      "name": "python"
    }
  },
  "cells": [
    {
      "cell_type": "markdown",
      "metadata": {
        "id": "view-in-github",
        "colab_type": "text"
      },
      "source": [
        "<a href=\"https://colab.research.google.com/github/victortizs/Py-bootcamp/blob/main/exercise2.ipynb\" target=\"_parent\"><img src=\"https://colab.research.google.com/assets/colab-badge.svg\" alt=\"Open In Colab\"/></a>"
      ]
    },
    {
      "cell_type": "markdown",
      "metadata": {
        "id": "Z-Lvm6yNePAU"
      },
      "source": [
        "## ON BOOLEAN VALUES & EXPRESSIONS"
      ]
    },
    {
      "cell_type": "code",
      "metadata": {
        "colab": {
          "base_uri": "https://localhost:8080/"
        },
        "id": "DGaBBrlOzHDP",
        "outputId": "6d7bfaf8-887b-49e4-a88b-74366170d59a"
      },
      "source": [
        "# print(type('Hello World'))\n",
        "# print(type(7))\n",
        "\n",
        "# print(type(True))\n",
        "# print(type(False))\n",
        "\n",
        "# print(type('True'))\n",
        "# print(type('False'))\n",
        "\n",
        "# print(bool('True'))\n",
        "# print(bool('False'))\n",
        "# print(bool('')) # This drops the only \"False\". Why? Because is an empty string.\n",
        "# print(bool(' '))\n",
        "# print(bool('Hello World!'))\n",
        "\n",
        "print(bool(7))\n",
        "print(bool(1))\n",
        "print(bool(0)) # This drops the only \"False\". Why? 'Cause the bool() converts any non-zero value to \"True\", while converts the value 0 to \"False\".\n",
        "print(bool(-1))"
      ],
      "execution_count": null,
      "outputs": [
        {
          "output_type": "stream",
          "text": [
            "True\n",
            "True\n",
            "False\n",
            "True\n"
          ],
          "name": "stdout"
        }
      ]
    },
    {
      "cell_type": "code",
      "metadata": {
        "colab": {
          "base_uri": "https://localhost:8080/"
        },
        "id": "j0XC7shjEEX0",
        "outputId": "5ee8291b-dfb4-48c0-eaea-89f237fee4dd"
      },
      "source": [
        "# Now let start with Boolean expressions: a function call or code block that ultimately returns True or False\n",
        "\n",
        "print(1 + 1 == 3)\n",
        "print(1 + 1 == 2)"
      ],
      "execution_count": null,
      "outputs": [
        {
          "output_type": "stream",
          "text": [
            "False\n",
            "True\n"
          ],
          "name": "stdout"
        }
      ]
    },
    {
      "cell_type": "code",
      "metadata": {
        "id": "d1vneWvS-Ll8"
      },
      "source": [
        "# The equality operator (\"==\") is different from the assignment operator (\"=\")\n",
        "# Forced SyntaxError  \n",
        "\n",
        "#print(1 + 1 = 3)\n",
        "#print(1 + 1 = 2)"
      ],
      "execution_count": 15,
      "outputs": []
    },
    {
      "cell_type": "markdown",
      "metadata": {
        "id": "TLHSgk0habfC"
      },
      "source": [
        "### OPERATORS\n",
        "\n",
        "They're like mini functions that perform operations on operands, \n",
        "which could be literal values, variable values, or any identifier like a class or method. \n",
        "We can classificate them in:\n",
        "- Arithmetic operators\n",
        "- Assignment operators\n",
        "- Bitwise operators\n",
        "- Comparison operators\n",
        "- Identity operators\n",
        "- Logical operators\n",
        "- Membership operators\n"
      ]
    },
    {
      "cell_type": "code",
      "metadata": {
        "id": "Kb0hYAV9fiwU"
      },
      "source": [
        "# COMPARISON OPERATORS\n",
        "\n",
        "# ==\tEquality operator\n",
        "# !=\tInequality operator\n",
        "# >\tGreater than operator\n",
        "# <\tLess than operator\n",
        "# >=\tGreater than or equal to operator\n",
        "# <=\tLess than or equal to operator"
      ],
      "execution_count": null,
      "outputs": []
    },
    {
      "cell_type": "code",
      "metadata": {
        "id": "XY-qK-aQgSKc",
        "colab": {
          "base_uri": "https://localhost:8080/"
        },
        "outputId": "cf76f110-2b79-4df2-c501-3945867a251a"
      },
      "source": [
        "print(3 == 4)\n",
        "print(3 != 4, \"\\n\")\n",
        "\n",
        "print(3 > 4)\n",
        "print(3 < 4)\n",
        "print(3 >= 4)\n",
        "print(3 <= 4)"
      ],
      "execution_count": 2,
      "outputs": [
        {
          "output_type": "stream",
          "text": [
            "False\n",
            "True \n",
            "\n",
            "False\n",
            "True\n",
            "False\n",
            "True\n"
          ],
          "name": "stdout"
        }
      ]
    },
    {
      "cell_type": "code",
      "metadata": {
        "colab": {
          "base_uri": "https://localhost:8080/"
        },
        "id": "wtRkdB7ZIMUp",
        "outputId": "1408df82-43e4-4411-8495-e05d7b783282"
      },
      "source": [
        "first_n = 5\n",
        "second_n = 0\n",
        "true_value = True\n",
        "false_value = False\n",
        "\n",
        "# if first_n > 1 and first_n < 10: || if 1 < first_n < 10:\n",
        "if 1 < first_n < 10:\n",
        "  print(\"The first number is between 1 and 10\")\n",
        "\n",
        "if first_n > 1 or second_n > 1:\n",
        "  print(\"\\nAt least one value is greater than 1\\n\")\n",
        "\n",
        "print(not true_value) # the \"not\" operator returns the opposite bool\n",
        "print(not false_value)\n",
        "\n",
        "if not first_n > 1 and second_n < 10:\n",
        "  print('\\nBoth values pass the test')\n",
        "else:\n",
        "  print('\\nBoth values do NOT pass the test')"
      ],
      "execution_count": 17,
      "outputs": [
        {
          "output_type": "stream",
          "text": [
            "The first number is between 1 and 10\n",
            "\n",
            "At least one value is greater than 1\n",
            "\n",
            "False\n",
            "True\n",
            "\n",
            "Both values do NOT pass the test\n"
          ],
          "name": "stdout"
        }
      ]
    },
    {
      "cell_type": "markdown",
      "metadata": {
        "id": "ZnvoYE4hddq0"
      },
      "source": [
        "## A BIT ON LISTS & SETS"
      ]
    },
    {
      "cell_type": "code",
      "metadata": {
        "colab": {
          "base_uri": "https://localhost:8080/"
        },
        "id": "miBzdbrLBTAG",
        "outputId": "3dbe6f64-d32f-437e-da0b-6c452d125940"
      },
      "source": [
        "lista = set(range(1,5)) # It doesn't take the superior limit of the interval.\n",
        "print(lista)\n",
        "\n",
        "a = list(range(2,9)) + [5] # 5 is include twice in the set\n",
        "print(a)\n",
        "\n",
        "print(a[-1]) # The last element of the list occupies the \"-1\" position.\n",
        "print(a[0]) # The first element corresponds with the \"0\" position in the list.\n",
        "print(\"The amount of UNIQUE elements the list contains is:\", len(set(a)))"
      ],
      "execution_count": 10,
      "outputs": [
        {
          "output_type": "stream",
          "text": [
            "{1, 2, 3, 4}\n",
            "[2, 3, 4, 5, 6, 7, 8, 5]\n",
            "5\n",
            "2\n",
            "The amount of UNIQUE elements the list contains is: 7\n"
          ],
          "name": "stdout"
        }
      ]
    },
    {
      "cell_type": "code",
      "metadata": {
        "colab": {
          "base_uri": "https://localhost:8080/"
        },
        "id": "UB0UW6tg5xiu",
        "outputId": "24534502-42f6-4127-862d-5bfdd4b279de"
      },
      "source": [
        "# Here you can enter numbers from 1 to 13 and sum the total. Are there any restrictions?\n",
        "\n",
        "allowed_nums = set(range(1,14)) - {3,7,10,12}\n",
        "ran_nums = []\n",
        "\n",
        "while ran_nums != allowed_nums:\n",
        "  inpt = int(input())\n",
        "  if inpt in allowed_nums:\n",
        "    ran_nums.append(inpt)\n",
        "    print(\"Ok\")\n",
        "    if set(ran_nums) == allowed_nums:\n",
        "      print(\"The sum of the numbers stored is: \", sum(ran_nums))\n",
        "      break\n",
        "  else:\n",
        "    print(\"Range not allowed\")"
      ],
      "execution_count": null,
      "outputs": [
        {
          "output_type": "stream",
          "text": [
            "1\n",
            "Ok\n",
            "2\n",
            "Ok\n",
            "3\n",
            "Range not allowed\n",
            "4\n",
            "Ok\n",
            "5\n",
            "Ok\n",
            "6\n",
            "Ok\n",
            "7\n",
            "Range not allowed\n",
            "8\n",
            "Ok\n",
            "9\n",
            "Ok\n",
            "10\n",
            "Range not allowed\n",
            "11\n",
            "Ok\n",
            "12\n",
            "Range not allowed\n",
            "13\n",
            "Ok\n",
            "The sum of the numbers stored is:  59\n"
          ],
          "name": "stdout"
        }
      ]
    }
  ]
}
