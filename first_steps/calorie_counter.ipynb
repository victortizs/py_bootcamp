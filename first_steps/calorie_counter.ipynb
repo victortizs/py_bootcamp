{
  "nbformat": 4,
  "nbformat_minor": 0,
  "metadata": {
    "colab": {
      "name": "calorie_counter.ipynb",
      "provenance": [],
      "collapsed_sections": [
        "qONqTIuwOUHx"
      ],
      "authorship_tag": "ABX9TyMLebQYzdMj7jJLQMr/D3Se",
      "include_colab_link": true
    },
    "kernelspec": {
      "name": "python3",
      "display_name": "Python 3"
    },
    "language_info": {
      "name": "python"
    }
  },
  "cells": [
    {
      "cell_type": "markdown",
      "metadata": {
        "id": "view-in-github",
        "colab_type": "text"
      },
      "source": [
        "<a href=\"https://colab.research.google.com/github/victortizs/Py-bootcamp/blob/main/calorie_counter.ipynb\" target=\"_parent\"><img src=\"https://colab.research.google.com/assets/colab-badge.svg\" alt=\"Open In Colab\"/></a>"
      ]
    },
    {
      "cell_type": "code",
      "metadata": {
        "id": "pJd1jmPKo9iF",
        "colab": {
          "base_uri": "https://localhost:8080/"
        },
        "outputId": "88f36f17-9edc-49f9-9048-8ad587266137"
      },
      "source": [
        "# Calorie Counter\n",
        "\n",
        "print(\"How are you? I hope you're fine\\nHere you can sum the calories you consumed on this day. Let's begin!\")\n",
        "date = str(input(\"\\nTell me the current date using the format mm/dd/yyyy: \"))\n",
        "\n",
        "i_input = 1\n",
        "sum = 0\n",
        "\n",
        "while True:\n",
        "  try:\n",
        "    n_meals = int(input(\"\\nHow many meals do you have today (use only numbers)? \"))\n",
        "    if n_meals > 4:\n",
        "      print(\"Hey, do you go the gym?\")\n",
        "    else:\n",
        "      normal = [3,4]\n",
        "      if n_meals in normal:\n",
        "        print(\"That's ok\")\n",
        "      elif n_meals == 0:\n",
        "        print(\"\\nEat and come again. See u!\")  \n",
        "      else:\n",
        "        print(\"You need more meals buddy\")\n",
        "    break\n",
        "  except ValueError:\n",
        "    print(\"Please be sure to entry a valid number\")\n",
        "\n",
        "if 0 < n_meals < 9:\n",
        "  print(\"\\nNow tell me the calories ingested per meal\")\n",
        "  while i_input <= n_meals: # TypeError: 'int' object is not iterable\n",
        "    print(f\"Meal #{i_input} calories:\")\n",
        "    calories = float(input())\n",
        "    sum += calories\n",
        "    i_input += 1\n",
        "  print(\"\\nYour calorie content for \" + date, \"is\", sum, \"calories.\")\n",
        "elif n_meals >= 9:\n",
        "  print(\"\\nEat a little bit less for your sake, then come again.\")\n",
        "\n",
        "print(\"\\nRemember an average adult must ingested 2000 calories per day, but each person is unique so talk to a nutritionist.\")"
      ],
      "execution_count": null,
      "outputs": [
        {
          "output_type": "stream",
          "text": [
            "How are you? I hope you're fine\n",
            "Here you can sum the calories you consumed on this day. Let's begin!\n",
            "\n",
            "Tell me the current date using the format mm/dd/yyyy: 07/23/2021\n",
            "\n",
            "How many meals do you have today (use only numbers)? 9\n",
            "Hey, do you go the gym?\n",
            "\n",
            "Eat a little bit less for your sake, then come again.\n",
            "\n",
            "Remember an average adult must ingested 2000 calories per day, but each person is unique so talk to a nutritionist.\n"
          ],
          "name": "stdout"
        }
      ]
    },
    {
      "cell_type": "markdown",
      "metadata": {
        "id": "qONqTIuwOUHx"
      },
      "source": [
        "## OTHERS"
      ]
    },
    {
      "cell_type": "code",
      "metadata": {
        "id": "fIjDuY8W66Ww",
        "colab": {
          "base_uri": "https://localhost:8080/",
          "height": 308
        },
        "outputId": "f3431207-366b-4438-d75d-3a2e640d9006"
      },
      "source": [
        "# print(\"Hello World\")\n",
        "\n",
        "print(\"What's your name?\")\n",
        "name = input()\n",
        "print(\"Hello, \" + name,\n",
        "      \". I want you to give me two numbers:\")\n",
        "# print(f\"Hello, {name}\")\n",
        "\n",
        "while True:\n",
        "  try:\n",
        "    first = int(input())\n",
        "    break\n",
        "\n",
        "  except ValueError:\n",
        "    print(\"That is not a valid number, please try again\")\n",
        "\n",
        "\n",
        "while True:\n",
        "  try:\n",
        "    print(\"\\nYour second number:\")\n",
        "    second = int(input())\n",
        "    sum = first + second\n",
        "    print(\"\\nTheir sum is \", sum,\".\\n\") # the input function returns strings, not numbers\n",
        "    break\n",
        "  except ValueError:\n",
        "    print(\"That is not a valid number, please try again\")\n",
        "\n",
        "''' Remember: I can only convert strings containing numbers into integers, not words, otherwise you'll get:\n",
        "ValueError: invalid literal for int()... '''"
      ],
      "execution_count": null,
      "outputs": [
        {
          "output_type": "stream",
          "text": [
            "What's your name?\n",
            "vic\n",
            "Hello, vic . I want you to give me two numbers:\n",
            "r\n",
            "That is not a valid number, please try again\n",
            "g\n",
            "That is not a valid number, please try again\n",
            "35\n",
            "\n",
            "Your second number:\n",
            "109\n",
            "\n",
            "Their sum is  144 .\n",
            "\n"
          ],
          "name": "stdout"
        },
        {
          "output_type": "execute_result",
          "data": {
            "application/vnd.google.colaboratory.intrinsic+json": {
              "type": "string"
            },
            "text/plain": [
              "\" Remember: I can only convert strings containing numbers into integers, not words, otherwise you'll get:\\nValueError: invalid literal for int()... \""
            ]
          },
          "metadata": {
            "tags": []
          },
          "execution_count": 2
        }
      ]
    },
    {
      "cell_type": "code",
      "metadata": {
        "colab": {
          "base_uri": "https://localhost:8080/"
        },
        "id": "nZLSKHxeV3eK",
        "outputId": "1cd2dd02-fa82-436c-cd99-328ddb578ba9"
      },
      "source": [
        "a = 4\n",
        "b = 6\n",
        "c = a + b\n",
        "print(c)\n",
        "print(type(c))"
      ],
      "execution_count": null,
      "outputs": [
        {
          "output_type": "stream",
          "text": [
            "10\n",
            "<class 'int'>\n"
          ],
          "name": "stdout"
        }
      ]
    },
    {
      "cell_type": "code",
      "metadata": {
        "colab": {
          "base_uri": "https://localhost:8080/",
          "height": 359
        },
        "id": "6eHUTWMQ_0-j",
        "outputId": "feb7bd47-9706-4be0-d623-c6eda9787b8b"
      },
      "source": [
        "import pandas as pd\n",
        "df = pd.read_csv(\"/content/sample_data/california_housing_test.csv\")\n",
        "df.head(10)"
      ],
      "execution_count": null,
      "outputs": [
        {
          "output_type": "execute_result",
          "data": {
            "text/html": [
              "<div>\n",
              "<style scoped>\n",
              "    .dataframe tbody tr th:only-of-type {\n",
              "        vertical-align: middle;\n",
              "    }\n",
              "\n",
              "    .dataframe tbody tr th {\n",
              "        vertical-align: top;\n",
              "    }\n",
              "\n",
              "    .dataframe thead th {\n",
              "        text-align: right;\n",
              "    }\n",
              "</style>\n",
              "<table border=\"1\" class=\"dataframe\">\n",
              "  <thead>\n",
              "    <tr style=\"text-align: right;\">\n",
              "      <th></th>\n",
              "      <th>longitude</th>\n",
              "      <th>latitude</th>\n",
              "      <th>housing_median_age</th>\n",
              "      <th>total_rooms</th>\n",
              "      <th>total_bedrooms</th>\n",
              "      <th>population</th>\n",
              "      <th>households</th>\n",
              "      <th>median_income</th>\n",
              "      <th>median_house_value</th>\n",
              "    </tr>\n",
              "  </thead>\n",
              "  <tbody>\n",
              "    <tr>\n",
              "      <th>0</th>\n",
              "      <td>-122.05</td>\n",
              "      <td>37.37</td>\n",
              "      <td>27.0</td>\n",
              "      <td>3885.0</td>\n",
              "      <td>661.0</td>\n",
              "      <td>1537.0</td>\n",
              "      <td>606.0</td>\n",
              "      <td>6.6085</td>\n",
              "      <td>344700.0</td>\n",
              "    </tr>\n",
              "    <tr>\n",
              "      <th>1</th>\n",
              "      <td>-118.30</td>\n",
              "      <td>34.26</td>\n",
              "      <td>43.0</td>\n",
              "      <td>1510.0</td>\n",
              "      <td>310.0</td>\n",
              "      <td>809.0</td>\n",
              "      <td>277.0</td>\n",
              "      <td>3.5990</td>\n",
              "      <td>176500.0</td>\n",
              "    </tr>\n",
              "    <tr>\n",
              "      <th>2</th>\n",
              "      <td>-117.81</td>\n",
              "      <td>33.78</td>\n",
              "      <td>27.0</td>\n",
              "      <td>3589.0</td>\n",
              "      <td>507.0</td>\n",
              "      <td>1484.0</td>\n",
              "      <td>495.0</td>\n",
              "      <td>5.7934</td>\n",
              "      <td>270500.0</td>\n",
              "    </tr>\n",
              "    <tr>\n",
              "      <th>3</th>\n",
              "      <td>-118.36</td>\n",
              "      <td>33.82</td>\n",
              "      <td>28.0</td>\n",
              "      <td>67.0</td>\n",
              "      <td>15.0</td>\n",
              "      <td>49.0</td>\n",
              "      <td>11.0</td>\n",
              "      <td>6.1359</td>\n",
              "      <td>330000.0</td>\n",
              "    </tr>\n",
              "    <tr>\n",
              "      <th>4</th>\n",
              "      <td>-119.67</td>\n",
              "      <td>36.33</td>\n",
              "      <td>19.0</td>\n",
              "      <td>1241.0</td>\n",
              "      <td>244.0</td>\n",
              "      <td>850.0</td>\n",
              "      <td>237.0</td>\n",
              "      <td>2.9375</td>\n",
              "      <td>81700.0</td>\n",
              "    </tr>\n",
              "    <tr>\n",
              "      <th>5</th>\n",
              "      <td>-119.56</td>\n",
              "      <td>36.51</td>\n",
              "      <td>37.0</td>\n",
              "      <td>1018.0</td>\n",
              "      <td>213.0</td>\n",
              "      <td>663.0</td>\n",
              "      <td>204.0</td>\n",
              "      <td>1.6635</td>\n",
              "      <td>67000.0</td>\n",
              "    </tr>\n",
              "    <tr>\n",
              "      <th>6</th>\n",
              "      <td>-121.43</td>\n",
              "      <td>38.63</td>\n",
              "      <td>43.0</td>\n",
              "      <td>1009.0</td>\n",
              "      <td>225.0</td>\n",
              "      <td>604.0</td>\n",
              "      <td>218.0</td>\n",
              "      <td>1.6641</td>\n",
              "      <td>67000.0</td>\n",
              "    </tr>\n",
              "    <tr>\n",
              "      <th>7</th>\n",
              "      <td>-120.65</td>\n",
              "      <td>35.48</td>\n",
              "      <td>19.0</td>\n",
              "      <td>2310.0</td>\n",
              "      <td>471.0</td>\n",
              "      <td>1341.0</td>\n",
              "      <td>441.0</td>\n",
              "      <td>3.2250</td>\n",
              "      <td>166900.0</td>\n",
              "    </tr>\n",
              "    <tr>\n",
              "      <th>8</th>\n",
              "      <td>-122.84</td>\n",
              "      <td>38.40</td>\n",
              "      <td>15.0</td>\n",
              "      <td>3080.0</td>\n",
              "      <td>617.0</td>\n",
              "      <td>1446.0</td>\n",
              "      <td>599.0</td>\n",
              "      <td>3.6696</td>\n",
              "      <td>194400.0</td>\n",
              "    </tr>\n",
              "    <tr>\n",
              "      <th>9</th>\n",
              "      <td>-118.02</td>\n",
              "      <td>34.08</td>\n",
              "      <td>31.0</td>\n",
              "      <td>2402.0</td>\n",
              "      <td>632.0</td>\n",
              "      <td>2830.0</td>\n",
              "      <td>603.0</td>\n",
              "      <td>2.3333</td>\n",
              "      <td>164200.0</td>\n",
              "    </tr>\n",
              "  </tbody>\n",
              "</table>\n",
              "</div>"
            ],
            "text/plain": [
              "   longitude  latitude  ...  median_income  median_house_value\n",
              "0    -122.05     37.37  ...         6.6085            344700.0\n",
              "1    -118.30     34.26  ...         3.5990            176500.0\n",
              "2    -117.81     33.78  ...         5.7934            270500.0\n",
              "3    -118.36     33.82  ...         6.1359            330000.0\n",
              "4    -119.67     36.33  ...         2.9375             81700.0\n",
              "5    -119.56     36.51  ...         1.6635             67000.0\n",
              "6    -121.43     38.63  ...         1.6641             67000.0\n",
              "7    -120.65     35.48  ...         3.2250            166900.0\n",
              "8    -122.84     38.40  ...         3.6696            194400.0\n",
              "9    -118.02     34.08  ...         2.3333            164200.0\n",
              "\n",
              "[10 rows x 9 columns]"
            ]
          },
          "metadata": {
            "tags": []
          },
          "execution_count": 27
        }
      ]
    },
    {
      "cell_type": "code",
      "metadata": {
        "colab": {
          "base_uri": "https://localhost:8080/",
          "height": 297
        },
        "id": "5qBKhnw8WVt9",
        "outputId": "c2a7cf6c-3ef8-4c22-8c60-31dd47baea83"
      },
      "source": [
        "# size = df.shape\n",
        "# print(f\"this dataset has {size[0]} rows and {size[1]} columns\")\n",
        "\n",
        "df.describe().round(2)"
      ],
      "execution_count": null,
      "outputs": [
        {
          "output_type": "execute_result",
          "data": {
            "text/html": [
              "<div>\n",
              "<style scoped>\n",
              "    .dataframe tbody tr th:only-of-type {\n",
              "        vertical-align: middle;\n",
              "    }\n",
              "\n",
              "    .dataframe tbody tr th {\n",
              "        vertical-align: top;\n",
              "    }\n",
              "\n",
              "    .dataframe thead th {\n",
              "        text-align: right;\n",
              "    }\n",
              "</style>\n",
              "<table border=\"1\" class=\"dataframe\">\n",
              "  <thead>\n",
              "    <tr style=\"text-align: right;\">\n",
              "      <th></th>\n",
              "      <th>longitude</th>\n",
              "      <th>latitude</th>\n",
              "      <th>housing_median_age</th>\n",
              "      <th>total_rooms</th>\n",
              "      <th>total_bedrooms</th>\n",
              "      <th>population</th>\n",
              "      <th>households</th>\n",
              "      <th>median_income</th>\n",
              "      <th>median_house_value</th>\n",
              "    </tr>\n",
              "  </thead>\n",
              "  <tbody>\n",
              "    <tr>\n",
              "      <th>count</th>\n",
              "      <td>3000.00</td>\n",
              "      <td>3000.00</td>\n",
              "      <td>3000.00</td>\n",
              "      <td>3000.00</td>\n",
              "      <td>3000.00</td>\n",
              "      <td>3000.00</td>\n",
              "      <td>3000.00</td>\n",
              "      <td>3000.00</td>\n",
              "      <td>3000.00</td>\n",
              "    </tr>\n",
              "    <tr>\n",
              "      <th>mean</th>\n",
              "      <td>-119.59</td>\n",
              "      <td>35.64</td>\n",
              "      <td>28.85</td>\n",
              "      <td>2599.58</td>\n",
              "      <td>529.95</td>\n",
              "      <td>1402.80</td>\n",
              "      <td>489.91</td>\n",
              "      <td>3.81</td>\n",
              "      <td>205846.28</td>\n",
              "    </tr>\n",
              "    <tr>\n",
              "      <th>std</th>\n",
              "      <td>1.99</td>\n",
              "      <td>2.13</td>\n",
              "      <td>12.56</td>\n",
              "      <td>2155.59</td>\n",
              "      <td>415.65</td>\n",
              "      <td>1030.54</td>\n",
              "      <td>365.42</td>\n",
              "      <td>1.85</td>\n",
              "      <td>113119.69</td>\n",
              "    </tr>\n",
              "    <tr>\n",
              "      <th>min</th>\n",
              "      <td>-124.18</td>\n",
              "      <td>32.56</td>\n",
              "      <td>1.00</td>\n",
              "      <td>6.00</td>\n",
              "      <td>2.00</td>\n",
              "      <td>5.00</td>\n",
              "      <td>2.00</td>\n",
              "      <td>0.50</td>\n",
              "      <td>22500.00</td>\n",
              "    </tr>\n",
              "    <tr>\n",
              "      <th>25%</th>\n",
              "      <td>-121.81</td>\n",
              "      <td>33.93</td>\n",
              "      <td>18.00</td>\n",
              "      <td>1401.00</td>\n",
              "      <td>291.00</td>\n",
              "      <td>780.00</td>\n",
              "      <td>273.00</td>\n",
              "      <td>2.54</td>\n",
              "      <td>121200.00</td>\n",
              "    </tr>\n",
              "    <tr>\n",
              "      <th>50%</th>\n",
              "      <td>-118.48</td>\n",
              "      <td>34.27</td>\n",
              "      <td>29.00</td>\n",
              "      <td>2106.00</td>\n",
              "      <td>437.00</td>\n",
              "      <td>1155.00</td>\n",
              "      <td>409.50</td>\n",
              "      <td>3.49</td>\n",
              "      <td>177650.00</td>\n",
              "    </tr>\n",
              "    <tr>\n",
              "      <th>75%</th>\n",
              "      <td>-118.02</td>\n",
              "      <td>37.69</td>\n",
              "      <td>37.00</td>\n",
              "      <td>3129.00</td>\n",
              "      <td>636.00</td>\n",
              "      <td>1742.75</td>\n",
              "      <td>597.25</td>\n",
              "      <td>4.66</td>\n",
              "      <td>263975.00</td>\n",
              "    </tr>\n",
              "    <tr>\n",
              "      <th>max</th>\n",
              "      <td>-114.49</td>\n",
              "      <td>41.92</td>\n",
              "      <td>52.00</td>\n",
              "      <td>30450.00</td>\n",
              "      <td>5419.00</td>\n",
              "      <td>11935.00</td>\n",
              "      <td>4930.00</td>\n",
              "      <td>15.00</td>\n",
              "      <td>500001.00</td>\n",
              "    </tr>\n",
              "  </tbody>\n",
              "</table>\n",
              "</div>"
            ],
            "text/plain": [
              "       longitude  latitude  ...  median_income  median_house_value\n",
              "count    3000.00   3000.00  ...        3000.00             3000.00\n",
              "mean     -119.59     35.64  ...           3.81           205846.28\n",
              "std         1.99      2.13  ...           1.85           113119.69\n",
              "min      -124.18     32.56  ...           0.50            22500.00\n",
              "25%      -121.81     33.93  ...           2.54           121200.00\n",
              "50%      -118.48     34.27  ...           3.49           177650.00\n",
              "75%      -118.02     37.69  ...           4.66           263975.00\n",
              "max      -114.49     41.92  ...          15.00           500001.00\n",
              "\n",
              "[8 rows x 9 columns]"
            ]
          },
          "metadata": {
            "tags": []
          },
          "execution_count": 45
        }
      ]
    },
    {
      "cell_type": "code",
      "metadata": {
        "colab": {
          "base_uri": "https://localhost:8080/"
        },
        "id": "fSAmSfZJXcZ8",
        "outputId": "5c5672b1-8262-4909-98cf-545ab5a1a2b8"
      },
      "source": [
        "df.info()"
      ],
      "execution_count": null,
      "outputs": [
        {
          "output_type": "stream",
          "text": [
            "<class 'pandas.core.frame.DataFrame'>\n",
            "RangeIndex: 3000 entries, 0 to 2999\n",
            "Data columns (total 9 columns):\n",
            " #   Column              Non-Null Count  Dtype  \n",
            "---  ------              --------------  -----  \n",
            " 0   longitude           3000 non-null   float64\n",
            " 1   latitude            3000 non-null   float64\n",
            " 2   housing_median_age  3000 non-null   float64\n",
            " 3   total_rooms         3000 non-null   float64\n",
            " 4   total_bedrooms      3000 non-null   float64\n",
            " 5   population          3000 non-null   float64\n",
            " 6   households          3000 non-null   float64\n",
            " 7   median_income       3000 non-null   float64\n",
            " 8   median_house_value  3000 non-null   float64\n",
            "dtypes: float64(9)\n",
            "memory usage: 211.1 KB\n"
          ],
          "name": "stdout"
        }
      ]
    }
  ]
}
