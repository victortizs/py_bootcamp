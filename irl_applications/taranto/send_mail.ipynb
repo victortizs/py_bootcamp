{
  "nbformat": 4,
  "nbformat_minor": 0,
  "metadata": {
    "colab": {
      "name": "send_mail.ipynb",
      "provenance": [],
      "include_colab_link": true
    },
    "kernelspec": {
      "name": "python3",
      "display_name": "Python 3"
    }
  },
  "cells": [
    {
      "cell_type": "markdown",
      "metadata": {
        "id": "view-in-github",
        "colab_type": "text"
      },
      "source": [
        "<a href=\"https://colab.research.google.com/github/victortizs/Py-bootcamp/blob/main/send_mail.ipynb\" target=\"_parent\"><img src=\"https://colab.research.google.com/assets/colab-badge.svg\" alt=\"Open In Colab\"/></a>"
      ]
    },
    {
      "cell_type": "code",
      "metadata": {
        "id": "NbBSqudSnF8j",
        "colab": {
          "base_uri": "https://localhost:8080/",
          "height": 90
        },
        "outputId": "497e2690-bc58-42d2-bcdd-7a719ccf5da4"
      },
      "source": [
        "import smtplib, ssl\n",
        "\n",
        "port = 465  # For SSL\n",
        "smtp_server = \"smtp.gmail.com\"\n",
        "sender_email = input('enter sender mail address:')  # Enter your address\n",
        "receiver_email = input('enter receiver mail address:')  # Enter receiver address\n",
        "password = input(\"Type your password and press enter: \")\n",
        "message =input('enter myour message:')\n",
        "\n",
        "context = ssl.create_default_context()\n",
        "with smtplib.SMTP_SSL(smtp_server, port, context=context) as server:\n",
        "    server.login(sender_email, password)\n",
        "    server.sendmail(sender_email, receiver_email, message)"
      ],
      "execution_count": null,
      "outputs": [
        {
          "output_type": "stream",
          "text": [
            "enter sender mail address:jagrawal292@gmail.com\n",
            "enter receiver mail address:jayeshagrawal896@gmail.com\n",
            "Type your password and press enter: jayesh896\n",
            "enter myour message:hi its jayesh\n"
          ],
          "name": "stdout"
        }
      ]
    },
    {
      "cell_type": "code",
      "metadata": {
        "id": "UydIl8e1AnCZ"
      },
      "source": [],
      "execution_count": null,
      "outputs": []
    }
  ]
}
